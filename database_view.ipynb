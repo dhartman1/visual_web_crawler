{
 "cells": [
  {
   "cell_type": "code",
   "execution_count": 1,
   "metadata": {},
   "outputs": [],
   "source": [
    "import sqlite3 as lite\n",
    "import pandas as pd\n",
    "import os\n"
   ]
  },
  {
   "cell_type": "markdown",
   "metadata": {},
   "source": [
    "# path to db"
   ]
  },
  {
   "cell_type": "code",
   "execution_count": 2,
   "metadata": {},
   "outputs": [],
   "source": [
    "db_path = os.path.join(os.getcwd(), 'crawler_app', 'crawler_app', 'db', 'crawler.sqlite')\n"
   ]
  },
  {
   "cell_type": "markdown",
   "metadata": {},
   "source": [
    "# code to get all table names"
   ]
  },
  {
   "cell_type": "code",
   "execution_count": 3,
   "metadata": {},
   "outputs": [
    {
     "name": "stdout",
     "output_type": "stream",
     "text": [
      "[('Account',)]\n"
     ]
    }
   ],
   "source": [
    "def get_table_names(database):\n",
    "    ''' print out all the table names in an SQLite db'''\n",
    "    conn = lite.connect(database)\n",
    "    cursor = conn.cursor()\n",
    "    cursor.execute(\"SELECT name FROM sqlite_master WHERE type='table';\")\n",
    "    print(cursor.fetchall())\n",
    "    conn.close()\n",
    "get_table_names(db_path)"
   ]
  },
  {
   "cell_type": "code",
   "execution_count": 4,
   "metadata": {},
   "outputs": [],
   "source": [
    "def execute_statement(query, database):\n",
    "    \"\"\" Execute a query and return results as dataframe. \n",
    "        ARGS: SQL statement, database path\n",
    "        RETURN: dataframe with results\n",
    "    \"\"\"\n",
    "    conn = lite.connect(database)\n",
    "    result = pd.read_sql_query(query, conn)\n",
    "    conn.close()\n",
    "    return result"
   ]
  },
  {
   "cell_type": "code",
   "execution_count": 5,
   "metadata": {},
   "outputs": [
    {
     "data": {
      "text/html": [
       "<div>\n",
       "<style scoped>\n",
       "    .dataframe tbody tr th:only-of-type {\n",
       "        vertical-align: middle;\n",
       "    }\n",
       "\n",
       "    .dataframe tbody tr th {\n",
       "        vertical-align: top;\n",
       "    }\n",
       "\n",
       "    .dataframe thead th {\n",
       "        text-align: right;\n",
       "    }\n",
       "</style>\n",
       "<table border=\"1\" class=\"dataframe\">\n",
       "  <thead>\n",
       "    <tr style=\"text-align: right;\">\n",
       "      <th></th>\n",
       "      <th>id</th>\n",
       "      <th>username</th>\n",
       "      <th>password_hash</th>\n",
       "      <th>created</th>\n",
       "    </tr>\n",
       "  </thead>\n",
       "  <tbody>\n",
       "    <tr>\n",
       "      <th>0</th>\n",
       "      <td>a4d8108787554632b3c08d73e48625cd</td>\n",
       "      <td>cas</td>\n",
       "      <td>$6$rounds=150000$X2QEpECeVinIJJ.B$HnwiJP0jaFPV...</td>\n",
       "      <td>2018-01-29 11:35:40.761275</td>\n",
       "    </tr>\n",
       "    <tr>\n",
       "      <th>1</th>\n",
       "      <td>b46fb52c41fa478cbd7a75285e5bd1e5</td>\n",
       "      <td>test</td>\n",
       "      <td>$6$rounds=150000$i2QVyJ9ybMKNJBCS$Nd1JDkY48/kp...</td>\n",
       "      <td>2018-02-05 13:58:42.948834</td>\n",
       "    </tr>\n",
       "    <tr>\n",
       "      <th>2</th>\n",
       "      <td>36a434eb5c674c2eb8b7fd06a255d555</td>\n",
       "      <td>new</td>\n",
       "      <td>$6$rounds=150000$V4XrawguhaMZ/iuD$Dm0BKvzEPu02...</td>\n",
       "      <td>2018-02-05 14:19:42.288817</td>\n",
       "    </tr>\n",
       "  </tbody>\n",
       "</table>\n",
       "</div>"
      ],
      "text/plain": [
       "                                 id username  \\\n",
       "0  a4d8108787554632b3c08d73e48625cd      cas   \n",
       "1  b46fb52c41fa478cbd7a75285e5bd1e5     test   \n",
       "2  36a434eb5c674c2eb8b7fd06a255d555      new   \n",
       "\n",
       "                                       password_hash  \\\n",
       "0  $6$rounds=150000$X2QEpECeVinIJJ.B$HnwiJP0jaFPV...   \n",
       "1  $6$rounds=150000$i2QVyJ9ybMKNJBCS$Nd1JDkY48/kp...   \n",
       "2  $6$rounds=150000$V4XrawguhaMZ/iuD$Dm0BKvzEPu02...   \n",
       "\n",
       "                      created  \n",
       "0  2018-01-29 11:35:40.761275  \n",
       "1  2018-02-05 13:58:42.948834  \n",
       "2  2018-02-05 14:19:42.288817  "
      ]
     },
     "execution_count": 5,
     "metadata": {},
     "output_type": "execute_result"
    }
   ],
   "source": [
    "query = \\\n",
    "\"\"\"\n",
    "SELECT * FROM Account\n",
    "\"\"\"\n",
    "execute_statement(query, db_path)"
   ]
  }
 ],
 "metadata": {
  "kernelspec": {
   "display_name": "Python 3",
   "language": "python",
   "name": "python3"
  },
  "language_info": {
   "codemirror_mode": {
    "name": "ipython",
    "version": 3
   },
   "file_extension": ".py",
   "mimetype": "text/x-python",
   "name": "python",
   "nbconvert_exporter": "python",
   "pygments_lexer": "ipython3",
   "version": "3.6.3"
  }
 },
 "nbformat": 4,
 "nbformat_minor": 2
}
